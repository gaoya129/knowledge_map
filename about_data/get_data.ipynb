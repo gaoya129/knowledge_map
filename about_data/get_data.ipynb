{
 "cells": [
  {
   "cell_type": "code",
   "execution_count": null,
   "metadata": {},
   "outputs": [],
   "source": [
    "import urllib.request\n",
    "import urllib.parse\n",
    "from lxml import etree\n",
    "from bs4 import BeautifulSoup\n",
    "\n",
    "# 请求地址\n",
    "url = 'https://www.sohu.com/a/429282138_544875?spm=smpc.author.fd-d.50.1641624756433nO3bNfQ'\n",
    "# 请求头部\n",
    "headers = { \n",
    "    'User-Agent': 'Mozilla/5.0 (Windows NT 10.0; WOW64) AppleWebKit/537.36 (KHTML, like Gecko) Chrome/67.0.3396.99 Safari/537.36' \n",
    "}\n",
    "# 利用请求地址和请求头部构造请求对象\n",
    "req = urllib.request.Request(url=url, headers=headers, method='GET')\n",
    "# 发送请求，获得响应\n",
    "response = urllib.request.urlopen(req)\n",
    "# 读取响应，获得文本\n",
    "text = response.read().decode('utf-8')\n",
    "# 构造 _Element 对象\n",
    "html = etree.HTML(text)\n",
    "\n",
    "# 使用 xpath 匹配数据，得到匹配字符串列表\n",
    "sen_list = html.xpath('//span/text()' or '//img/@src') \n",
    "\n",
    "# 过滤数据，去掉空白\n",
    "sen_list_after_filter = [item.strip('\\n') for item in sen_list]\n",
    "# 将字符串列表连成字符串并返回\n",
    "# print(sen_list_after_filter)\n",
    "with open('世界地理.txt','a',encoding='utf-8') as file0:\n",
    "    for item in sen_list_after_filter:\n",
    "        print(item,file=file0)"
   ]
  },
  {
   "cell_type": "code",
   "execution_count": null,
   "metadata": {},
   "outputs": [],
   "source": [
    "import csv\n",
    "csvFile = open(\"./data3.csv\",'a',newline='',encoding='utf-8')\n",
    "writer = csv.writer(csvFile)\n",
    "csvRow = []\n",
    "\n",
    "f = open(\"./data/高中地理必修一二三.txt\",'r',encoding='utf-8')\n",
    "for line in f:\n",
    "    csvRow = line.split()\n",
    "    writer.writerow(csvRow)\n",
    "\n",
    "f.close()\n",
    "csvFile.close()"
   ]
  }
 ],
 "metadata": {
  "interpreter": {
   "hash": "9cffe4ddc79feda500ff9be966e84305f93089bb331c930c5a2072ce85e0fa74"
  },
  "kernelspec": {
   "display_name": "Python 3.7.11 64-bit ('homework': conda)",
   "name": "python3"
  },
  "language_info": {
   "codemirror_mode": {
    "name": "ipython",
    "version": 3
   },
   "file_extension": ".py",
   "mimetype": "text/x-python",
   "name": "python",
   "nbconvert_exporter": "python",
   "pygments_lexer": "ipython3",
   "version": "3.7.4"
  }
 },
 "nbformat": 4,
 "nbformat_minor": 2
}
